{
  "nbformat": 4,
  "nbformat_minor": 0,
  "metadata": {
    "colab": {
      "provenance": []
    },
    "kernelspec": {
      "name": "python3",
      "display_name": "Python 3"
    },
    "language_info": {
      "name": "python"
    }
  },
  "cells": [
    {
      "cell_type": "code",
      "execution_count": 1,
      "metadata": {
        "id": "MGM9DdhW8kGR"
      },
      "outputs": [],
      "source": [
        "from pandas import read_csv\n",
        "import pandas as pd\n",
        "from sklearn.model_selection import train_test_split\n",
        "from sklearn.preprocessing import LabelEncoder\n",
        "from tensorflow.keras import Sequential\n",
        "from tensorflow.keras.layers import Dense, Dropout, Input"
      ]
    },
    {
      "cell_type": "code",
      "source": [
        "from google.colab import drive\n",
        "drive.mount('/content/drive')"
      ],
      "metadata": {
        "colab": {
          "base_uri": "https://localhost:8080/"
        },
        "id": "BWTFatYj8vDW",
        "outputId": "112c4271-9871-44d1-f00b-df16b6d2038a"
      },
      "execution_count": 3,
      "outputs": [
        {
          "output_type": "stream",
          "name": "stdout",
          "text": [
            "Mounted at /content/drive\n"
          ]
        }
      ]
    },
    {
      "cell_type": "code",
      "source": [
        "df = pd.read_csv(\"/content/drive/MyDrive/Colab_Notebooks/car_price_prediction_regression.csv\")\n",
        "df.shape"
      ],
      "metadata": {
        "colab": {
          "base_uri": "https://localhost:8080/"
        },
        "id": "RsOyAFUd8m1s",
        "outputId": "c931119d-d5ca-4b32-ee80-09d00c9d05d1"
      },
      "execution_count": 23,
      "outputs": [
        {
          "output_type": "execute_result",
          "data": {
            "text/plain": [
              "(19237, 14)"
            ]
          },
          "metadata": {},
          "execution_count": 23
        }
      ]
    },
    {
      "cell_type": "code",
      "source": [
        "df.info()"
      ],
      "metadata": {
        "colab": {
          "base_uri": "https://localhost:8080/"
        },
        "id": "zFNnMCpI8qNv",
        "outputId": "5afd8b27-4d76-4e17-fd6c-e1006426f140"
      },
      "execution_count": 24,
      "outputs": [
        {
          "output_type": "stream",
          "name": "stdout",
          "text": [
            "<class 'pandas.core.frame.DataFrame'>\n",
            "RangeIndex: 19237 entries, 0 to 19236\n",
            "Data columns (total 14 columns):\n",
            " #   Column            Non-Null Count  Dtype  \n",
            "---  ------            --------------  -----  \n",
            " 0   Price             19237 non-null  int64  \n",
            " 1   Manufacturer      19237 non-null  object \n",
            " 2   Category          19237 non-null  object \n",
            " 3   Leather interior  19237 non-null  object \n",
            " 4   Fuel type         19237 non-null  object \n",
            " 5   Engine volume     19237 non-null  float64\n",
            " 6   Mileage           19237 non-null  int64  \n",
            " 7   Cylinders         19237 non-null  int64  \n",
            " 8   Gear box type     19237 non-null  object \n",
            " 9   Drive wheels      19237 non-null  object \n",
            " 10  Doors             19237 non-null  int64  \n",
            " 11  Wheel             19237 non-null  object \n",
            " 12  Color             19237 non-null  object \n",
            " 13  Airbags           19237 non-null  int64  \n",
            "dtypes: float64(1), int64(5), object(8)\n",
            "memory usage: 2.1+ MB\n"
          ]
        }
      ]
    },
    {
      "cell_type": "code",
      "source": [
        "df_ohe = pd.get_dummies(df)\n",
        "df_ohe.shape"
      ],
      "metadata": {
        "colab": {
          "base_uri": "https://localhost:8080/"
        },
        "id": "0d_qcr4C8uG-",
        "outputId": "6742970d-6222-4593-ce16-214d760d6718"
      },
      "execution_count": 25,
      "outputs": [
        {
          "output_type": "execute_result",
          "data": {
            "text/plain": [
              "(19237, 116)"
            ]
          },
          "metadata": {},
          "execution_count": 25
        }
      ]
    },
    {
      "cell_type": "code",
      "source": [
        "X = df_ohe.drop('Price', axis=1)\n",
        "Y = df_ohe['Price']"
      ],
      "metadata": {
        "id": "vVGXQB6g9YI3"
      },
      "execution_count": 27,
      "outputs": []
    },
    {
      "cell_type": "code",
      "source": [
        "X.shape,Y.shape"
      ],
      "metadata": {
        "colab": {
          "base_uri": "https://localhost:8080/"
        },
        "id": "DYQU5-LM9baC",
        "outputId": "eea26a82-5155-4394-a506-4378efcd1abe"
      },
      "execution_count": 10,
      "outputs": [
        {
          "output_type": "execute_result",
          "data": {
            "text/plain": [
              "((19237, 115), (19237,))"
            ]
          },
          "metadata": {},
          "execution_count": 10
        }
      ]
    },
    {
      "cell_type": "code",
      "source": [
        "from sklearn.model_selection import train_test_split\n",
        "X_train, X_test, Y_train, Y_test = train_test_split(X, Y, test_size=0.3, random_state=7)"
      ],
      "metadata": {
        "id": "D3MRZaIK9giP"
      },
      "execution_count": 11,
      "outputs": []
    },
    {
      "cell_type": "code",
      "source": [
        "X_train.shape, X_test.shape, Y_train.shape, Y_test.shape"
      ],
      "metadata": {
        "colab": {
          "base_uri": "https://localhost:8080/"
        },
        "id": "428AK53d9qNl",
        "outputId": "2a874765-feb9-44d2-a9ce-c695cde8bc1a"
      },
      "execution_count": 12,
      "outputs": [
        {
          "output_type": "execute_result",
          "data": {
            "text/plain": [
              "((13465, 115), (5772, 115), (13465,), (5772,))"
            ]
          },
          "metadata": {},
          "execution_count": 12
        }
      ]
    },
    {
      "cell_type": "code",
      "source": [
        "from tensorflow.keras.models import Sequential\n",
        "from tensorflow.keras.layers import Dense, Dropout"
      ],
      "metadata": {
        "id": "cXR_WkGE9sT-"
      },
      "execution_count": 13,
      "outputs": []
    },
    {
      "cell_type": "code",
      "source": [
        "n_features = X_train.shape[1]\n",
        "n_features"
      ],
      "metadata": {
        "colab": {
          "base_uri": "https://localhost:8080/"
        },
        "id": "QU3WhUEj98q3",
        "outputId": "16c959e9-2cd7-46e8-e765-93199a1c6d9d"
      },
      "execution_count": 14,
      "outputs": [
        {
          "output_type": "execute_result",
          "data": {
            "text/plain": [
              "115"
            ]
          },
          "metadata": {},
          "execution_count": 14
        }
      ]
    },
    {
      "cell_type": "code",
      "source": [
        "model1 = Sequential()\n",
        "model1.add(Input((n_features,)))\n",
        "model1.add(Dense(128, activation='relu'))\n",
        "model1.add(Dense(1,activation='linear'))"
      ],
      "metadata": {
        "id": "LGImrSPm-PaB"
      },
      "execution_count": 15,
      "outputs": []
    },
    {
      "cell_type": "code",
      "source": [
        "model1.summary()"
      ],
      "metadata": {
        "colab": {
          "base_uri": "https://localhost:8080/",
          "height": 193
        },
        "id": "VYR5ymbz-rvx",
        "outputId": "e1fa149a-2e04-47bb-db29-dafd7731cdb7"
      },
      "execution_count": 16,
      "outputs": [
        {
          "output_type": "display_data",
          "data": {
            "text/plain": [
              "\u001b[1mModel: \"sequential\"\u001b[0m\n"
            ],
            "text/html": [
              "<pre style=\"white-space:pre;overflow-x:auto;line-height:normal;font-family:Menlo,'DejaVu Sans Mono',consolas,'Courier New',monospace\"><span style=\"font-weight: bold\">Model: \"sequential\"</span>\n",
              "</pre>\n"
            ]
          },
          "metadata": {}
        },
        {
          "output_type": "display_data",
          "data": {
            "text/plain": [
              "┏━━━━━━━━━━━━━━━━━━━━━━━━━━━━━━━━━┳━━━━━━━━━━━━━━━━━━━━━━━━┳━━━━━━━━━━━━━━━┓\n",
              "┃\u001b[1m \u001b[0m\u001b[1mLayer (type)                   \u001b[0m\u001b[1m \u001b[0m┃\u001b[1m \u001b[0m\u001b[1mOutput Shape          \u001b[0m\u001b[1m \u001b[0m┃\u001b[1m \u001b[0m\u001b[1m      Param #\u001b[0m\u001b[1m \u001b[0m┃\n",
              "┡━━━━━━━━━━━━━━━━━━━━━━━━━━━━━━━━━╇━━━━━━━━━━━━━━━━━━━━━━━━╇━━━━━━━━━━━━━━━┩\n",
              "│ dense (\u001b[38;5;33mDense\u001b[0m)                   │ (\u001b[38;5;45mNone\u001b[0m, \u001b[38;5;34m128\u001b[0m)            │        \u001b[38;5;34m14,848\u001b[0m │\n",
              "├─────────────────────────────────┼────────────────────────┼───────────────┤\n",
              "│ dense_1 (\u001b[38;5;33mDense\u001b[0m)                 │ (\u001b[38;5;45mNone\u001b[0m, \u001b[38;5;34m1\u001b[0m)              │           \u001b[38;5;34m129\u001b[0m │\n",
              "└─────────────────────────────────┴────────────────────────┴───────────────┘\n"
            ],
            "text/html": [
              "<pre style=\"white-space:pre;overflow-x:auto;line-height:normal;font-family:Menlo,'DejaVu Sans Mono',consolas,'Courier New',monospace\">┏━━━━━━━━━━━━━━━━━━━━━━━━━━━━━━━━━┳━━━━━━━━━━━━━━━━━━━━━━━━┳━━━━━━━━━━━━━━━┓\n",
              "┃<span style=\"font-weight: bold\"> Layer (type)                    </span>┃<span style=\"font-weight: bold\"> Output Shape           </span>┃<span style=\"font-weight: bold\">       Param # </span>┃\n",
              "┡━━━━━━━━━━━━━━━━━━━━━━━━━━━━━━━━━╇━━━━━━━━━━━━━━━━━━━━━━━━╇━━━━━━━━━━━━━━━┩\n",
              "│ dense (<span style=\"color: #0087ff; text-decoration-color: #0087ff\">Dense</span>)                   │ (<span style=\"color: #00d7ff; text-decoration-color: #00d7ff\">None</span>, <span style=\"color: #00af00; text-decoration-color: #00af00\">128</span>)            │        <span style=\"color: #00af00; text-decoration-color: #00af00\">14,848</span> │\n",
              "├─────────────────────────────────┼────────────────────────┼───────────────┤\n",
              "│ dense_1 (<span style=\"color: #0087ff; text-decoration-color: #0087ff\">Dense</span>)                 │ (<span style=\"color: #00d7ff; text-decoration-color: #00d7ff\">None</span>, <span style=\"color: #00af00; text-decoration-color: #00af00\">1</span>)              │           <span style=\"color: #00af00; text-decoration-color: #00af00\">129</span> │\n",
              "└─────────────────────────────────┴────────────────────────┴───────────────┘\n",
              "</pre>\n"
            ]
          },
          "metadata": {}
        },
        {
          "output_type": "display_data",
          "data": {
            "text/plain": [
              "\u001b[1m Total params: \u001b[0m\u001b[38;5;34m14,977\u001b[0m (58.50 KB)\n"
            ],
            "text/html": [
              "<pre style=\"white-space:pre;overflow-x:auto;line-height:normal;font-family:Menlo,'DejaVu Sans Mono',consolas,'Courier New',monospace\"><span style=\"font-weight: bold\"> Total params: </span><span style=\"color: #00af00; text-decoration-color: #00af00\">14,977</span> (58.50 KB)\n",
              "</pre>\n"
            ]
          },
          "metadata": {}
        },
        {
          "output_type": "display_data",
          "data": {
            "text/plain": [
              "\u001b[1m Trainable params: \u001b[0m\u001b[38;5;34m14,977\u001b[0m (58.50 KB)\n"
            ],
            "text/html": [
              "<pre style=\"white-space:pre;overflow-x:auto;line-height:normal;font-family:Menlo,'DejaVu Sans Mono',consolas,'Courier New',monospace\"><span style=\"font-weight: bold\"> Trainable params: </span><span style=\"color: #00af00; text-decoration-color: #00af00\">14,977</span> (58.50 KB)\n",
              "</pre>\n"
            ]
          },
          "metadata": {}
        },
        {
          "output_type": "display_data",
          "data": {
            "text/plain": [
              "\u001b[1m Non-trainable params: \u001b[0m\u001b[38;5;34m0\u001b[0m (0.00 B)\n"
            ],
            "text/html": [
              "<pre style=\"white-space:pre;overflow-x:auto;line-height:normal;font-family:Menlo,'DejaVu Sans Mono',consolas,'Courier New',monospace\"><span style=\"font-weight: bold\"> Non-trainable params: </span><span style=\"color: #00af00; text-decoration-color: #00af00\">0</span> (0.00 B)\n",
              "</pre>\n"
            ]
          },
          "metadata": {}
        }
      ]
    },
    {
      "cell_type": "code",
      "source": [
        "model1.compile(optimizer='adam', loss='mse', metrics=['mae','r2_score'])"
      ],
      "metadata": {
        "id": "Z_LV6M1k-t-P"
      },
      "execution_count": 18,
      "outputs": []
    },
    {
      "cell_type": "code",
      "source": [
        "history = model1.fit(X_train, Y_train, epochs=100, batch_size=32, validation_split=0.3,verbose=2,shuffle=False)"
      ],
      "metadata": {
        "colab": {
          "base_uri": "https://localhost:8080/"
        },
        "id": "OSlHeyt4-yL7",
        "outputId": "3ae08331-b1a7-4e70-cc19-c7c5b45e7050"
      },
      "execution_count": 19,
      "outputs": [
        {
          "output_type": "stream",
          "name": "stdout",
          "text": [
            "Epoch 1/100\n",
            "295/295 - 3s - 9ms/step - loss: 2406211911680.0000 - mae: 37065.0430 - r2_score: -3.1658e+01 - val_loss: 516015161344.0000 - val_mae: 31837.6250 - val_r2_score: -1.5033e+03\n",
            "Epoch 2/100\n",
            "295/295 - 1s - 3ms/step - loss: 5191311556608.0000 - mae: 71731.7578 - r2_score: -6.9458e+01 - val_loss: 3329126301696.0000 - val_mae: 56120.8594 - val_r2_score: -9.7039e+03\n",
            "Epoch 3/100\n",
            "295/295 - 1s - 3ms/step - loss: 12166498353152.0000 - mae: 93547.6641 - r2_score: -1.6413e+02 - val_loss: 10687513362432.0000 - val_mae: 89369.2266 - val_r2_score: -3.1155e+04\n",
            "Epoch 4/100\n",
            "295/295 - 1s - 4ms/step - loss: 10226679939072.0000 - mae: 86342.6094 - r2_score: -1.3780e+02 - val_loss: 1990010601472.0000 - val_mae: 46877.8633 - val_r2_score: -5.8002e+03\n",
            "Epoch 5/100\n",
            "295/295 - 2s - 6ms/step - loss: 12709745655808.0000 - mae: 101424.9922 - r2_score: -1.7150e+02 - val_loss: 1016002576384.0000 - val_mae: 43091.4102 - val_r2_score: -2.9608e+03\n",
            "Epoch 6/100\n",
            "295/295 - 3s - 9ms/step - loss: 9678586118144.0000 - mae: 88425.5859 - r2_score: -1.3036e+02 - val_loss: 315122778112.0000 - val_mae: 28432.6016 - val_r2_score: -9.1763e+02\n",
            "Epoch 7/100\n",
            "295/295 - 1s - 4ms/step - loss: 4339503726592.0000 - mae: 70327.1953 - r2_score: -5.7897e+01 - val_loss: 4311688704.0000 - val_mae: 17950.3789 - val_r2_score: -1.1569e+01\n",
            "Epoch 8/100\n",
            "295/295 - 1s - 3ms/step - loss: 1435510505472.0000 - mae: 53919.3086 - r2_score: -1.8483e+01 - val_loss: 99471638528.0000 - val_mae: 24927.3320 - val_r2_score: -2.8898e+02\n",
            "Epoch 9/100\n",
            "295/295 - 1s - 4ms/step - loss: 516300406784.0000 - mae: 39256.4336 - r2_score: -6.0073e+00 - val_loss: 24100517888.0000 - val_mae: 20707.5781 - val_r2_score: -6.9257e+01\n",
            "Epoch 10/100\n",
            "295/295 - 1s - 4ms/step - loss: 535157866496.0000 - mae: 33598.2812 - r2_score: -6.2633e+00 - val_loss: 1155621322752.0000 - val_mae: 44719.5742 - val_r2_score: -3.3678e+03\n",
            "Epoch 11/100\n",
            "295/295 - 1s - 3ms/step - loss: 18057843965952.0000 - mae: 123665.7812 - r2_score: -2.4408e+02 - val_loss: 157273620480.0000 - val_mae: 26969.1523 - val_r2_score: -4.5748e+02\n",
            "Epoch 12/100\n",
            "295/295 - 1s - 5ms/step - loss: 503095197696.0000 - mae: 38502.1133 - r2_score: -5.8281e+00 - val_loss: 22005657600.0000 - val_mae: 20443.3047 - val_r2_score: -6.3150e+01\n",
            "Epoch 13/100\n",
            "295/295 - 1s - 3ms/step - loss: 1128413134848.0000 - mae: 48347.4062 - r2_score: -1.4315e+01 - val_loss: 1072630595584.0000 - val_mae: 43597.3906 - val_r2_score: -3.1259e+03\n",
            "Epoch 14/100\n",
            "295/295 - 2s - 6ms/step - loss: 22648442585088.0000 - mae: 126641.9766 - r2_score: -3.0639e+02 - val_loss: 1991590656.0000 - val_mae: 17345.3984 - val_r2_score: -4.8058e+00\n",
            "Epoch 15/100\n",
            "295/295 - 3s - 11ms/step - loss: 4804945379328.0000 - mae: 72320.1016 - r2_score: -6.4214e+01 - val_loss: 43328499712.0000 - val_mae: 21946.5938 - val_r2_score: -1.2531e+02\n",
            "Epoch 16/100\n",
            "295/295 - 2s - 6ms/step - loss: 186500071424.0000 - mae: 29145.5762 - r2_score: -1.5312e+00 - val_loss: 6131267584.0000 - val_mae: 18482.0332 - val_r2_score: -1.6874e+01\n",
            "Epoch 17/100\n",
            "295/295 - 1s - 4ms/step - loss: 598484647936.0000 - mae: 36167.1367 - r2_score: -7.1228e+00 - val_loss: 73420242944.0000 - val_mae: 23547.0645 - val_r2_score: -2.1303e+02\n",
            "Epoch 18/100\n",
            "295/295 - 1s - 4ms/step - loss: 10506497687552.0000 - mae: 115601.6719 - r2_score: -1.4160e+02 - val_loss: 924317188096.0000 - val_mae: 41579.5664 - val_r2_score: -2.6935e+03\n",
            "Epoch 19/100\n",
            "295/295 - 1s - 4ms/step - loss: 3640656134144.0000 - mae: 75771.5547 - r2_score: -4.8412e+01 - val_loss: 265213755392.0000 - val_mae: 29906.5898 - val_r2_score: -7.7214e+02\n",
            "Epoch 20/100\n",
            "295/295 - 1s - 4ms/step - loss: 1272962875392.0000 - mae: 51742.2305 - r2_score: -1.6277e+01 - val_loss: 55256989696.0000 - val_mae: 22569.2695 - val_r2_score: -1.6008e+02\n",
            "Epoch 21/100\n",
            "295/295 - 1s - 5ms/step - loss: 287670763520.0000 - mae: 31978.6816 - r2_score: -2.9043e+00 - val_loss: 1163299072.0000 - val_mae: 16956.2363 - val_r2_score: -2.3912e+00\n",
            "Epoch 22/100\n",
            "295/295 - 1s - 3ms/step - loss: 87011704832.0000 - mae: 22345.8301 - r2_score: -1.8094e-01 - val_loss: 948641600.0000 - val_mae: 16941.9727 - val_r2_score: -1.7654e+00\n",
            "Epoch 23/100\n",
            "295/295 - 2s - 8ms/step - loss: 7733102772224.0000 - mae: 86293.5469 - r2_score: -1.0396e+02 - val_loss: 2249990078464.0000 - val_mae: 48684.8398 - val_r2_score: -6.5581e+03\n",
            "Epoch 24/100\n",
            "295/295 - 3s - 10ms/step - loss: 2839337500672.0000 - mae: 57601.3164 - r2_score: -3.7536e+01 - val_loss: 3572634112.0000 - val_mae: 17570.7773 - val_r2_score: -9.4148e+00\n",
            "Epoch 25/100\n",
            "295/295 - 1s - 3ms/step - loss: 76449595392.0000 - mae: 20696.4844 - r2_score: -3.7590e-02 - val_loss: 612523264.0000 - val_mae: 16460.3418 - val_r2_score: -7.8560e-01\n",
            "Epoch 26/100\n",
            "295/295 - 1s - 4ms/step - loss: 567482777600.0000 - mae: 35684.2695 - r2_score: -6.7020e+00 - val_loss: 117807480832.0000 - val_mae: 23579.5918 - val_r2_score: -3.4243e+02\n",
            "Epoch 27/100\n",
            "295/295 - 1s - 4ms/step - loss: 19505874993152.0000 - mae: 138507.2031 - r2_score: -2.6374e+02 - val_loss: 1191359807488.0000 - val_mae: 39664.0234 - val_r2_score: -3.4720e+03\n",
            "Epoch 28/100\n",
            "295/295 - 1s - 5ms/step - loss: 3438737620992.0000 - mae: 66435.5703 - r2_score: -4.5671e+01 - val_loss: 133210800128.0000 - val_mae: 24042.9785 - val_r2_score: -3.8733e+02\n",
            "Epoch 29/100\n",
            "295/295 - 1s - 4ms/step - loss: 580366893056.0000 - mae: 37662.7930 - r2_score: -6.8769e+00 - val_loss: 34483662848.0000 - val_mae: 20252.3125 - val_r2_score: -9.9525e+01\n",
            "Epoch 30/100\n",
            "295/295 - 1s - 3ms/step - loss: 231004372992.0000 - mae: 28722.4531 - r2_score: -2.1352e+00 - val_loss: 2224371200.0000 - val_mae: 17252.7070 - val_r2_score: -5.4844e+00\n",
            "Epoch 31/100\n",
            "295/295 - 1s - 4ms/step - loss: 78443651072.0000 - mae: 21186.8652 - r2_score: -6.4654e-02 - val_loss: 625281728.0000 - val_mae: 16522.6465 - val_r2_score: -8.2279e-01\n",
            "Epoch 32/100\n",
            "295/295 - 1s - 4ms/step - loss: 340927512576.0000 - mae: 31649.9395 - r2_score: -3.6271e+00 - val_loss: 48656633856.0000 - val_mae: 20965.4746 - val_r2_score: -1.4084e+02\n",
            "Epoch 33/100\n",
            "295/295 - 2s - 5ms/step - loss: 13443549626368.0000 - mae: 119124.9766 - r2_score: -1.8146e+02 - val_loss: 1256630779904.0000 - val_mae: 40288.7656 - val_r2_score: -3.6623e+03\n",
            "Epoch 34/100\n",
            "295/295 - 2s - 8ms/step - loss: 4750688387072.0000 - mae: 77027.8359 - r2_score: -6.3477e+01 - val_loss: 309810364416.0000 - val_mae: 28087.2949 - val_r2_score: -9.0215e+02\n",
            "Epoch 35/100\n",
            "295/295 - 3s - 9ms/step - loss: 1380957945856.0000 - mae: 49124.7461 - r2_score: -1.7743e+01 - val_loss: 86646652928.0000 - val_mae: 22521.3477 - val_r2_score: -2.5159e+02\n",
            "Epoch 36/100\n",
            "295/295 - 2s - 7ms/step - loss: 466705350656.0000 - mae: 34150.4922 - r2_score: -5.3342e+00 - val_loss: 3594586624.0000 - val_mae: 17522.9980 - val_r2_score: -9.4788e+00\n",
            "Epoch 37/100\n",
            "295/295 - 1s - 3ms/step - loss: 81150730240.0000 - mae: 21663.2012 - r2_score: -1.0139e-01 - val_loss: 624113280.0000 - val_mae: 16492.6113 - val_r2_score: -8.1939e-01\n",
            "Epoch 38/100\n",
            "295/295 - 1s - 5ms/step - loss: 629224177664.0000 - mae: 37067.5430 - r2_score: -7.5400e+00 - val_loss: 78688935936.0000 - val_mae: 22200.8906 - val_r2_score: -2.2839e+02\n",
            "Epoch 39/100\n",
            "295/295 - 2s - 5ms/step - loss: 14991363145728.0000 - mae: 122378.3359 - r2_score: -2.0247e+02 - val_loss: 850927812608.0000 - val_mae: 35931.5938 - val_r2_score: -2.4796e+03\n",
            "Epoch 40/100\n",
            "295/295 - 3s - 9ms/step - loss: 3279434022912.0000 - mae: 67283.4531 - r2_score: -4.3509e+01 - val_loss: 232610332672.0000 - val_mae: 26442.4766 - val_r2_score: -6.7710e+02\n",
            "Epoch 41/100\n",
            "295/295 - 2s - 8ms/step - loss: 1092948983808.0000 - mae: 45381.5391 - r2_score: -1.3834e+01 - val_loss: 62025547776.0000 - val_mae: 21491.8848 - val_r2_score: -1.7981e+02\n",
            "Epoch 42/100\n",
            "295/295 - 1s - 4ms/step - loss: 344540381184.0000 - mae: 30804.3477 - r2_score: -3.6762e+00 - val_loss: 942090944.0000 - val_mae: 16707.9629 - val_r2_score: -1.7463e+00\n",
            "Epoch 43/100\n",
            "295/295 - 1s - 4ms/step - loss: 74100441088.0000 - mae: 19421.7266 - r2_score: -5.7067e-03 - val_loss: 607045504.0000 - val_mae: 16332.7139 - val_r2_score: -7.6963e-01\n",
            "Epoch 44/100\n",
            "295/295 - 1s - 3ms/step - loss: 91102339072.0000 - mae: 22197.1719 - r2_score: -2.3646e-01 - val_loss: 6897724416.0000 - val_mae: 17949.5664 - val_r2_score: -1.9108e+01\n",
            "Epoch 45/100\n",
            "295/295 - 1s - 3ms/step - loss: 11056960241664.0000 - mae: 115319.4062 - r2_score: -1.4907e+02 - val_loss: 12001324564480.0000 - val_mae: 106815.0547 - val_r2_score: -3.4985e+04\n",
            "Epoch 46/100\n",
            "295/295 - 1s - 4ms/step - loss: 10237342908416.0000 - mae: 91013.5000 - r2_score: -1.3794e+02 - val_loss: 690114304.0000 - val_mae: 16642.5098 - val_r2_score: -1.0118e+00\n",
            "Epoch 47/100\n",
            "295/295 - 1s - 3ms/step - loss: 74112614400.0000 - mae: 19487.2031 - r2_score: -5.8719e-03 - val_loss: 610330368.0000 - val_mae: 16417.5977 - val_r2_score: -7.7921e-01\n",
            "Epoch 48/100\n",
            "295/295 - 2s - 6ms/step - loss: 74052141056.0000 - mae: 19323.1270 - r2_score: -5.0511e-03 - val_loss: 610157184.0000 - val_mae: 16415.0488 - val_r2_score: -7.7870e-01\n",
            "Epoch 49/100\n",
            "295/295 - 3s - 9ms/step - loss: 74052550656.0000 - mae: 19329.4375 - r2_score: -5.0567e-03 - val_loss: 610015552.0000 - val_mae: 16410.9316 - val_r2_score: -7.7829e-01\n",
            "Epoch 50/100\n",
            "295/295 - 3s - 9ms/step - loss: 74054385664.0000 - mae: 19340.9922 - r2_score: -5.0817e-03 - val_loss: 609654848.0000 - val_mae: 16398.2383 - val_r2_score: -7.7724e-01\n",
            "Epoch 51/100\n",
            "295/295 - 2s - 6ms/step - loss: 106505216000.0000 - mae: 23421.9141 - r2_score: -4.4551e-01 - val_loss: 706004544.0000 - val_mae: 16577.6855 - val_r2_score: -1.0581e+00\n",
            "Epoch 52/100\n",
            "295/295 - 1s - 4ms/step - loss: 74284138496.0000 - mae: 19693.3438 - r2_score: -8.1998e-03 - val_loss: 608806272.0000 - val_mae: 16383.2686 - val_r2_score: -7.7477e-01\n",
            "Epoch 53/100\n",
            "295/295 - 1s - 5ms/step - loss: 104483848192.0000 - mae: 23328.2852 - r2_score: -4.1808e-01 - val_loss: 9157394432.0000 - val_mae: 18254.9258 - val_r2_score: -2.5695e+01\n",
            "Epoch 54/100\n",
            "295/295 - 1s - 4ms/step - loss: 5771564679168.0000 - mae: 90158.2656 - r2_score: -7.7333e+01 - val_loss: 933431279616.0000 - val_mae: 41514.5859 - val_r2_score: -2.7201e+03\n",
            "Epoch 55/100\n",
            "295/295 - 1s - 5ms/step - loss: 2733495812096.0000 - mae: 68142.5781 - r2_score: -3.6100e+01 - val_loss: 226317402112.0000 - val_mae: 28698.7324 - val_r2_score: -6.5875e+02\n",
            "Epoch 56/100\n",
            "295/295 - 1s - 4ms/step - loss: 1045425553408.0000 - mae: 48525.2109 - r2_score: -1.3189e+01 - val_loss: 56170467328.0000 - val_mae: 22443.5156 - val_r2_score: -1.6275e+02\n",
            "Epoch 57/100\n",
            "295/295 - 2s - 5ms/step - loss: 290123448320.0000 - mae: 31070.1738 - r2_score: -2.9376e+00 - val_loss: 681998208.0000 - val_mae: 16545.9980 - val_r2_score: -9.8813e-01\n",
            "Epoch 58/100\n",
            "295/295 - 2s - 6ms/step - loss: 6908061155328.0000 - mae: 93716.1172 - r2_score: -9.2758e+01 - val_loss: 482435170304.0000 - val_mae: 34425.5312 - val_r2_score: -1.4054e+03\n",
            "Epoch 59/100\n",
            "295/295 - 2s - 6ms/step - loss: 1331923517440.0000 - mae: 51607.0391 - r2_score: -1.7077e+01 - val_loss: 68787208192.0000 - val_mae: 23092.0332 - val_r2_score: -1.9953e+02\n",
            "Epoch 60/100\n",
            "295/295 - 1s - 4ms/step - loss: 634204061696.0000 - mae: 39375.7539 - r2_score: -7.6075e+00 - val_loss: 4290096640.0000 - val_mae: 17857.5645 - val_r2_score: -1.1506e+01\n",
            "Epoch 61/100\n",
            "295/295 - 1s - 4ms/step - loss: 454643122176.0000 - mae: 34320.1562 - r2_score: -5.1705e+00 - val_loss: 612771840.0000 - val_mae: 16367.6475 - val_r2_score: -7.8633e-01\n",
            "Epoch 62/100\n",
            "295/295 - 1s - 4ms/step - loss: 122595115008.0000 - mae: 24106.1543 - r2_score: -6.6389e-01 - val_loss: 606878400.0000 - val_mae: 16324.5195 - val_r2_score: -7.6915e-01\n",
            "Epoch 63/100\n",
            "295/295 - 1s - 4ms/step - loss: 2223520874496.0000 - mae: 61377.6719 - r2_score: -2.9178e+01 - val_loss: 531647004672.0000 - val_mae: 31650.2070 - val_r2_score: -1.5488e+03\n",
            "Epoch 64/100\n",
            "295/295 - 1s - 3ms/step - loss: 5620703952896.0000 - mae: 81181.5938 - r2_score: -7.5285e+01 - val_loss: 387650682880.0000 - val_mae: 29338.5508 - val_r2_score: -1.1291e+03\n",
            "Epoch 65/100\n",
            "295/295 - 1s - 4ms/step - loss: 1388083806208.0000 - mae: 48508.5859 - r2_score: -1.7839e+01 - val_loss: 73521831936.0000 - val_mae: 21833.0898 - val_r2_score: -2.1333e+02\n",
            "Epoch 66/100\n",
            "295/295 - 1s - 4ms/step - loss: 386810380288.0000 - mae: 33276.0000 - r2_score: -4.2499e+00 - val_loss: 19377733632.0000 - val_mae: 19090.8184 - val_r2_score: -5.5489e+01\n",
            "Epoch 67/100\n",
            "295/295 - 2s - 6ms/step - loss: 158729781248.0000 - mae: 25457.6465 - r2_score: -1.1543e+00 - val_loss: 670858944.0000 - val_mae: 16406.4004 - val_r2_score: -9.5566e-01\n",
            "Epoch 68/100\n",
            "295/295 - 2s - 8ms/step - loss: 74085433344.0000 - mae: 19294.5488 - r2_score: -5.5031e-03 - val_loss: 601652672.0000 - val_mae: 16227.4463 - val_r2_score: -7.5391e-01\n",
            "Epoch 69/100\n",
            "295/295 - 2s - 7ms/step - loss: 6655382650880.0000 - mae: 79705.3047 - r2_score: -8.9328e+01 - val_loss: 9417730818048.0000 - val_mae: 96367.8438 - val_r2_score: -2.7453e+04\n",
            "Epoch 70/100\n",
            "295/295 - 1s - 3ms/step - loss: 5004022775808.0000 - mae: 64292.5195 - r2_score: -6.6916e+01 - val_loss: 2423838208.0000 - val_mae: 17364.0996 - val_r2_score: -6.0659e+00\n",
            "Epoch 71/100\n",
            "295/295 - 1s - 4ms/step - loss: 78458806272.0000 - mae: 21034.9688 - r2_score: -6.4859e-02 - val_loss: 790039680.0000 - val_mae: 16610.6016 - val_r2_score: -1.3031e+00\n",
            "Epoch 72/100\n",
            "295/295 - 1s - 4ms/step - loss: 74801831936.0000 - mae: 19959.3105 - r2_score: -1.5226e-02 - val_loss: 660513728.0000 - val_mae: 16441.4199 - val_r2_score: -9.2550e-01\n",
            "Epoch 73/100\n",
            "295/295 - 1s - 4ms/step - loss: 74299375616.0000 - mae: 19560.5117 - r2_score: -8.4066e-03 - val_loss: 603434368.0000 - val_mae: 16259.9688 - val_r2_score: -7.5911e-01\n",
            "Epoch 74/100\n",
            "295/295 - 1s - 4ms/step - loss: 74320183296.0000 - mae: 19561.2656 - r2_score: -8.6890e-03 - val_loss: 601443584.0000 - val_mae: 16220.8643 - val_r2_score: -7.5330e-01\n",
            "Epoch 75/100\n",
            "295/295 - 1s - 4ms/step - loss: 187597946880.0000 - mae: 26459.1973 - r2_score: -1.5461e+00 - val_loss: 1765413120.0000 - val_mae: 17062.1895 - val_r2_score: -4.1465e+00\n",
            "Epoch 76/100\n",
            "295/295 - 1s - 5ms/step - loss: 896729219072.0000 - mae: 43051.0430 - r2_score: -1.1171e+01 - val_loss: 1037839237120.0000 - val_mae: 37869.3164 - val_r2_score: -3.0245e+03\n",
            "Epoch 77/100\n",
            "295/295 - 2s - 8ms/step - loss: 11869453549568.0000 - mae: 94285.7656 - r2_score: -1.6009e+02 - val_loss: 24369360896.0000 - val_mae: 19471.0195 - val_r2_score: -7.0040e+01\n",
            "Epoch 78/100\n",
            "295/295 - 1s - 3ms/step - loss: 87115522048.0000 - mae: 21414.1328 - r2_score: -1.8235e-01 - val_loss: 605298560.0000 - val_mae: 16302.7334 - val_r2_score: -7.6454e-01\n",
            "Epoch 79/100\n",
            "295/295 - 1s - 4ms/step - loss: 74046054400.0000 - mae: 19196.0176 - r2_score: -4.9685e-03 - val_loss: 603743616.0000 - val_mae: 16277.0146 - val_r2_score: -7.6001e-01\n",
            "Epoch 80/100\n",
            "295/295 - 1s - 4ms/step - loss: 77387538432.0000 - mae: 20392.2793 - r2_score: -5.0320e-02 - val_loss: 604272896.0000 - val_mae: 16287.4258 - val_r2_score: -7.6155e-01\n",
            "Epoch 81/100\n",
            "295/295 - 1s - 4ms/step - loss: 74049134592.0000 - mae: 19220.6816 - r2_score: -5.0104e-03 - val_loss: 603689920.0000 - val_mae: 16275.1387 - val_r2_score: -7.5985e-01\n",
            "Epoch 82/100\n",
            "295/295 - 1s - 3ms/step - loss: 74045612032.0000 - mae: 19182.5020 - r2_score: -4.9626e-03 - val_loss: 603103040.0000 - val_mae: 16264.1387 - val_r2_score: -7.5814e-01\n",
            "Epoch 83/100\n",
            "295/295 - 1s - 4ms/step - loss: 3228154724352.0000 - mae: 59104.0117 - r2_score: -4.2813e+01 - val_loss: 4114177327104.0000 - val_mae: 60381.2109 - val_r2_score: -1.1992e+04\n",
            "Epoch 84/100\n",
            "295/295 - 1s - 4ms/step - loss: 5136450584576.0000 - mae: 67430.1328 - r2_score: -6.8713e+01 - val_loss: 855389248.0000 - val_mae: 16563.1270 - val_r2_score: -1.4936e+00\n",
            "Epoch 85/100\n",
            "295/295 - 1s - 5ms/step - loss: 74786676736.0000 - mae: 19809.6562 - r2_score: -1.5020e-02 - val_loss: 608781632.0000 - val_mae: 16302.4658 - val_r2_score: -7.7469e-01\n",
            "Epoch 86/100\n",
            "295/295 - 2s - 5ms/step - loss: 190234673152.0000 - mae: 27541.3945 - r2_score: -1.5819e+00 - val_loss: 13079437312.0000 - val_mae: 18524.2852 - val_r2_score: -3.7129e+01\n",
            "Epoch 87/100\n",
            "295/295 - 2s - 8ms/step - loss: 101031223296.0000 - mae: 22978.8633 - r2_score: -3.7122e-01 - val_loss: 1338210176.0000 - val_mae: 16702.1523 - val_r2_score: -2.9011e+00\n",
            "Epoch 88/100\n",
            "295/295 - 1s - 3ms/step - loss: 74698612736.0000 - mae: 19844.6230 - r2_score: -1.3825e-02 - val_loss: 661686336.0000 - val_mae: 16403.7480 - val_r2_score: -9.2892e-01\n",
            "Epoch 89/100\n",
            "295/295 - 1s - 4ms/step - loss: 1624721195008.0000 - mae: 53974.8281 - r2_score: -2.1051e+01 - val_loss: 51625295872.0000 - val_mae: 21963.9492 - val_r2_score: -1.4950e+02\n",
            "Epoch 90/100\n",
            "295/295 - 1s - 4ms/step - loss: 5030387646464.0000 - mae: 83195.9922 - r2_score: -6.7273e+01 - val_loss: 5759738839040.0000 - val_mae: 78741.3281 - val_r2_score: -1.6790e+04\n",
            "Epoch 91/100\n",
            "295/295 - 1s - 3ms/step - loss: 3816560001024.0000 - mae: 60925.8477 - r2_score: -5.0799e+01 - val_loss: 2481287424.0000 - val_mae: 17062.8320 - val_r2_score: -6.2333e+00\n",
            "Epoch 92/100\n",
            "295/295 - 1s - 3ms/step - loss: 78375624704.0000 - mae: 20657.2715 - r2_score: -6.3730e-02 - val_loss: 763367104.0000 - val_mae: 16423.3477 - val_r2_score: -1.2253e+00\n",
            "Epoch 93/100\n",
            "295/295 - 1s - 4ms/step - loss: 74625458176.0000 - mae: 19647.5254 - r2_score: -1.2832e-02 - val_loss: 631112960.0000 - val_mae: 16266.1465 - val_r2_score: -8.3979e-01\n",
            "Epoch 94/100\n",
            "295/295 - 1s - 4ms/step - loss: 74190823424.0000 - mae: 19310.0059 - r2_score: -6.9335e-03 - val_loss: 597205824.0000 - val_mae: 16148.1553 - val_r2_score: -7.4095e-01\n",
            "Epoch 95/100\n",
            "295/295 - 1s - 4ms/step - loss: 74073882624.0000 - mae: 19155.8047 - r2_score: -5.3462e-03 - val_loss: 593946304.0000 - val_mae: 16077.9541 - val_r2_score: -7.3145e-01\n",
            "Epoch 96/100\n",
            "295/295 - 2s - 6ms/step - loss: 4027092566016.0000 - mae: 72822.6250 - r2_score: -5.3657e+01 - val_loss: 3362692530176.0000 - val_mae: 63710.1133 - val_r2_score: -9.8018e+03\n",
            "Epoch 97/100\n",
            "295/295 - 3s - 9ms/step - loss: 4120302583808.0000 - mae: 66463.4453 - r2_score: -5.4922e+01 - val_loss: 6057112576.0000 - val_mae: 17844.0703 - val_r2_score: -1.6657e+01\n",
            "Epoch 98/100\n",
            "295/295 - 1s - 3ms/step - loss: 85748416512.0000 - mae: 21826.8047 - r2_score: -1.6380e-01 - val_loss: 939791936.0000 - val_mae: 16427.5117 - val_r2_score: -1.7396e+00\n",
            "Epoch 99/100\n",
            "295/295 - 1s - 4ms/step - loss: 74946936832.0000 - mae: 19486.8711 - r2_score: -1.7195e-02 - val_loss: 588464960.0000 - val_mae: 15955.5234 - val_r2_score: -7.1547e-01\n",
            "Epoch 100/100\n",
            "295/295 - 1s - 4ms/step - loss: 74032005120.0000 - mae: 18863.7598 - r2_score: -4.7779e-03 - val_loss: 585396224.0000 - val_mae: 15893.8115 - val_r2_score: -7.0652e-01\n"
          ]
        }
      ]
    },
    {
      "cell_type": "code",
      "source": [
        "loss, mae, r2_score = model1.evaluate(X_test, Y_test,verbose = 0)\n",
        "print('Test mae: %.3f' % mae)\n",
        "\n"
      ],
      "metadata": {
        "colab": {
          "base_uri": "https://localhost:8080/"
        },
        "id": "n0e_tSVn_KL0",
        "outputId": "b732fc24-7d9a-445b-f818-e3a2d662b4b8"
      },
      "execution_count": 21,
      "outputs": [
        {
          "output_type": "stream",
          "name": "stdout",
          "text": [
            "Test mae: 16789.957\n"
          ]
        }
      ]
    },
    {
      "cell_type": "code",
      "source": [],
      "metadata": {
        "id": "YNFg0mKs_dLw"
      },
      "execution_count": null,
      "outputs": []
    }
  ]
}